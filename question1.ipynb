{
 "cells": [
  {
   "cell_type": "code",
   "execution_count": 1,
   "id": "d155dcb5-0feb-447a-9dce-90877fef34aa",
   "metadata": {},
   "outputs": [
    {
     "name": "stdout",
     "output_type": "stream",
     "text": [
      "0       17\n",
      "1       18\n",
      "2       19\n",
      "3       20\n",
      "4       21\n",
      "      ... \n",
      "99     116\n",
      "100    117\n",
      "101    118\n",
      "102    119\n",
      "103    120\n",
      "Name: age_at_entry, Length: 104, dtype: int64\n",
      "0       18\n",
      "1       19\n",
      "2       20\n",
      "3       21\n",
      "4       22\n",
      "      ... \n",
      "99     117\n",
      "100    118\n",
      "101    119\n",
      "102    120\n",
      "103    121\n",
      "Name: age_at_entry, Length: 104, dtype: int64\n",
      "     Age x  Duration 0  Duration 1  Duration 2\n",
      "0       17    0.000427    0.000552    0.000600\n",
      "1       18    0.000426    0.000548    0.000594\n",
      "2       19    0.000425    0.000544    0.000587\n",
      "3       20    0.000425    0.000541    0.000582\n",
      "4       21    0.000425    0.000538    0.000577\n",
      "..     ...         ...         ...         ...\n",
      "99     116         NaN         NaN    0.754809\n",
      "100    117         NaN         NaN    0.776648\n",
      "101    118         NaN         NaN    0.797477\n",
      "102    119         NaN         NaN    0.817225\n",
      "103    120         NaN         NaN    1.000000\n",
      "\n",
      "[104 rows x 4 columns]\n"
     ]
    }
   ],
   "source": [
    "import pickle\n",
    "\n",
    "with open('c_age_zero', 'rb') as f:\n",
    "    c_age_zero = pickle.load(f)\n",
    "\n",
    "print(c_age_zero)\n",
    "\n",
    "with open('c_age_one', 'rb') as f:\n",
    "    c_age_one = pickle.load(f)\n",
    "\n",
    "print(c_age_one)\n",
    "\n",
    "with open('AM92', 'rb') as f:\n",
    "    AM92 = pickle.load(f)\n",
    "\n",
    "print(AM92)\n"
   ]
  },
  {
   "cell_type": "markdown",
   "id": "d09bc718-2ea1-4de2-a7d5-a593a72ed6f9",
   "metadata": {},
   "source": [
    "## This works"
   ]
  },
  {
   "cell_type": "code",
   "execution_count": 2,
   "id": "511fc232-2d40-4eed-8c9e-58864df8890b",
   "metadata": {},
   "outputs": [
    {
     "data": {
      "text/plain": [
       "0      0.000600\n",
       "1      0.000594\n",
       "2      0.000587\n",
       "3      0.000582\n",
       "4      0.000577\n",
       "         ...   \n",
       "99     0.754809\n",
       "100    0.776648\n",
       "101    0.797477\n",
       "102    0.817225\n",
       "103    1.000000\n",
       "Name: Duration 2, Length: 104, dtype: float64"
      ]
     },
     "execution_count": 2,
     "metadata": {},
     "output_type": "execute_result"
    }
   ],
   "source": [
    "AM92.loc[AM92['Age x'] == c_age_zero,'Duration 2']"
   ]
  },
  {
   "cell_type": "markdown",
   "id": "cb4ff58c-6b2e-4bca-a304-46f943ed2537",
   "metadata": {},
   "source": [
    "## But this one is empty??"
   ]
  },
  {
   "cell_type": "code",
   "execution_count": 3,
   "id": "08c0a8a8-32dd-4452-881d-a3d9f35a33ce",
   "metadata": {},
   "outputs": [
    {
     "data": {
      "text/plain": [
       "Series([], Name: Duration 2, dtype: float64)"
      ]
     },
     "execution_count": 3,
     "metadata": {},
     "output_type": "execute_result"
    }
   ],
   "source": [
    "AM92.loc[AM92['Age x'] == c_age_one,'Duration 2']"
   ]
  },
  {
   "cell_type": "code",
   "execution_count": 4,
   "id": "2a8c65b6-0696-4f4c-8306-171862390eff",
   "metadata": {},
   "outputs": [
    {
     "data": {
      "text/plain": [
       "pandas.core.frame.DataFrame"
      ]
     },
     "execution_count": 4,
     "metadata": {},
     "output_type": "execute_result"
    }
   ],
   "source": [
    "type(AM92)"
   ]
  },
  {
   "cell_type": "code",
   "execution_count": 5,
   "id": "913534a6",
   "metadata": {},
   "outputs": [
    {
     "data": {
      "text/plain": [
       "pandas.core.series.Series"
      ]
     },
     "execution_count": 5,
     "metadata": {},
     "output_type": "execute_result"
    }
   ],
   "source": [
    "type(c_age_one)\n"
   ]
  },
  {
   "cell_type": "code",
   "execution_count": 6,
   "id": "8b3b84d6",
   "metadata": {},
   "outputs": [
    {
     "data": {
      "text/plain": [
       "1      0.000594\n",
       "2      0.000587\n",
       "3      0.000582\n",
       "4      0.000577\n",
       "5      0.000572\n",
       "         ...   \n",
       "99     0.754809\n",
       "100    0.776648\n",
       "101    0.797477\n",
       "102    0.817225\n",
       "103    1.000000\n",
       "Name: Duration 2, Length: 103, dtype: float64"
      ]
     },
     "execution_count": 6,
     "metadata": {},
     "output_type": "execute_result"
    }
   ],
   "source": [
    "AM92.loc[AM92['Age x'].isin(c_age_one), 'Duration 2']"
   ]
  },
  {
   "cell_type": "code",
   "execution_count": 7,
   "id": "4ed47dc9",
   "metadata": {},
   "outputs": [
    {
     "name": "stdout",
     "output_type": "stream",
     "text": [
      "0       19\n",
      "1       20\n",
      "2       21\n",
      "3       22\n",
      "4       23\n",
      "      ... \n",
      "99     118\n",
      "100    119\n",
      "101    120\n",
      "102    121\n",
      "103    122\n",
      "Name: age_at_entry, Length: 104, dtype: int64\n"
     ]
    }
   ],
   "source": [
    "c_age_two = c_age_one + 1\n",
    "print(c_age_two)"
   ]
  },
  {
   "cell_type": "code",
   "execution_count": 8,
   "id": "8c974173",
   "metadata": {},
   "outputs": [
    {
     "data": {
      "text/plain": [
       "2      0.000587\n",
       "3      0.000582\n",
       "4      0.000577\n",
       "5      0.000572\n",
       "6      0.000569\n",
       "         ...   \n",
       "99     0.754809\n",
       "100    0.776648\n",
       "101    0.797477\n",
       "102    0.817225\n",
       "103    1.000000\n",
       "Name: Duration 2, Length: 102, dtype: float64"
      ]
     },
     "execution_count": 8,
     "metadata": {},
     "output_type": "execute_result"
    }
   ],
   "source": [
    "AM92.loc[AM92['Age x'].isin(c_age_two), 'Duration 2']"
   ]
  },
  {
   "cell_type": "code",
   "execution_count": 9,
   "id": "ada4aec1",
   "metadata": {},
   "outputs": [
    {
     "data": {
      "text/plain": [
       "pandas.core.series.Series"
      ]
     },
     "execution_count": 9,
     "metadata": {},
     "output_type": "execute_result"
    }
   ],
   "source": [
    "type(c_age_two)\n"
   ]
  },
  {
   "cell_type": "code",
   "execution_count": 10,
   "id": "26e75bf4",
   "metadata": {},
   "outputs": [],
   "source": [
    "import pandas as pd\n",
    "c = AM92.loc[AM92['Age x'].isin(c_age_two), 'Duration 2']\n",
    "type(c)\n",
    "results = pd.DataFrame({\"Age\":c_age_two,\"Mort_Rate\":AM92.loc[AM92['Age x'].isin(c_age_two), 'Duration 2']})"
   ]
  },
  {
   "cell_type": "code",
   "execution_count": 11,
   "id": "5251d1c5",
   "metadata": {},
   "outputs": [
    {
     "data": {
      "text/plain": [
       "<bound method NDFrame.head of      Age  Mort_Rate\n",
       "0     19        NaN\n",
       "1     20        NaN\n",
       "2     21   0.000587\n",
       "3     22   0.000582\n",
       "4     23   0.000577\n",
       "..   ...        ...\n",
       "99   118   0.754809\n",
       "100  119   0.776648\n",
       "101  120   0.797477\n",
       "102  121   0.817225\n",
       "103  122   1.000000\n",
       "\n",
       "[104 rows x 2 columns]>"
      ]
     },
     "execution_count": 11,
     "metadata": {},
     "output_type": "execute_result"
    }
   ],
   "source": [
    "results.head"
   ]
  },
  {
   "cell_type": "code",
   "execution_count": 12,
   "id": "1b1a86fd",
   "metadata": {},
   "outputs": [
    {
     "name": "stdout",
     "output_type": "stream",
     "text": [
      "1      0.000594\n",
      "2      0.000587\n",
      "3      0.000582\n",
      "4      0.000577\n",
      "5      0.000572\n",
      "         ...   \n",
      "99     0.754809\n",
      "100    0.776648\n",
      "101    0.797477\n",
      "102    0.817225\n",
      "103    1.000000\n",
      "Name: Duration 2, Length: 103, dtype: float64\n"
     ]
    },
    {
     "data": {
      "text/plain": [
       "NoneType"
      ]
     },
     "execution_count": 12,
     "metadata": {},
     "output_type": "execute_result"
    }
   ],
   "source": [
    "d = AM92.loc[AM92['Age x'].isin(c_age_one),'Duration 2']\n",
    "print(d)\n",
    "d = d.fillna(value=0, inplace=True)\n",
    "\n",
    "type(d)\n"
   ]
  },
  {
   "cell_type": "code",
   "execution_count": 20,
   "id": "ff9e5d50",
   "metadata": {},
   "outputs": [
    {
     "name": "stdout",
     "output_type": "stream",
     "text": [
      "     Duration 2  age_at_entry\n",
      "0      0.000600           NaN\n",
      "1      0.000594          18.0\n",
      "2      0.000587          19.0\n",
      "3      0.000582          20.0\n",
      "4      0.000577          21.0\n",
      "..          ...           ...\n",
      "99     0.754809         116.0\n",
      "100    0.776648         117.0\n",
      "101    0.797477         118.0\n",
      "102    0.817225         119.0\n",
      "103    1.000000         120.0\n",
      "\n",
      "[104 rows x 2 columns]\n",
      "     Age x  Duration 0  Duration 1  Duration 2  age_at_entry\n",
      "0       17    0.000427    0.000552    0.000600           NaN\n",
      "1       18    0.000426    0.000548    0.000594          18.0\n",
      "2       19    0.000425    0.000544    0.000587          19.0\n",
      "3       20    0.000425    0.000541    0.000582          20.0\n",
      "4       21    0.000425    0.000538    0.000577          21.0\n",
      "..     ...         ...         ...         ...           ...\n",
      "99     116         NaN         NaN    0.754809         116.0\n",
      "100    117         NaN         NaN    0.776648         117.0\n",
      "101    118         NaN         NaN    0.797477         118.0\n",
      "102    119         NaN         NaN    0.817225         119.0\n",
      "103    120         NaN         NaN    1.000000         120.0\n",
      "\n",
      "[104 rows x 5 columns]\n"
     ]
    }
   ],
   "source": [
    "e =AM92.merge(c_age_one, left_on='Age x', right_on='age_at_entry', how='left')\n",
    "print(e[[\"Duration 2\",\"age_at_entry\"]])\n",
    "\n"
   ]
  },
  {
   "cell_type": "code",
   "execution_count": null,
   "id": "769518b9-16e5-420b-a6ba-e42d91793f7d",
   "metadata": {},
   "outputs": [],
   "source": []
  }
 ],
 "metadata": {
  "kernelspec": {
   "display_name": "Python 3 (ipykernel)",
   "language": "python",
   "name": "python3"
  },
  "language_info": {
   "codemirror_mode": {
    "name": "ipython",
    "version": 3
   },
   "file_extension": ".py",
   "mimetype": "text/x-python",
   "name": "python",
   "nbconvert_exporter": "python",
   "pygments_lexer": "ipython3",
   "version": "3.9.12"
  }
 },
 "nbformat": 4,
 "nbformat_minor": 5
}
