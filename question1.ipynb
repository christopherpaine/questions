{
 "cells": [
  {
   "cell_type": "code",
   "execution_count": 1,
   "id": "d155dcb5-0feb-447a-9dce-90877fef34aa",
   "metadata": {},
   "outputs": [
    {
     "name": "stdout",
     "output_type": "stream",
     "text": [
      "0       17\n",
      "1       18\n",
      "2       19\n",
      "3       20\n",
      "4       21\n",
      "      ... \n",
      "99     116\n",
      "100    117\n",
      "101    118\n",
      "102    119\n",
      "103    120\n",
      "Name: age_at_entry, Length: 104, dtype: int64\n",
      "0       18\n",
      "1       19\n",
      "2       20\n",
      "3       21\n",
      "4       22\n",
      "      ... \n",
      "99     117\n",
      "100    118\n",
      "101    119\n",
      "102    120\n",
      "103    121\n",
      "Name: age_at_entry, Length: 104, dtype: int64\n",
      "     Age x  Duration 0  Duration 1  Duration 2\n",
      "0       17    0.000427    0.000552    0.000600\n",
      "1       18    0.000426    0.000548    0.000594\n",
      "2       19    0.000425    0.000544    0.000587\n",
      "3       20    0.000425    0.000541    0.000582\n",
      "4       21    0.000425    0.000538    0.000577\n",
      "..     ...         ...         ...         ...\n",
      "99     116         NaN         NaN    0.754809\n",
      "100    117         NaN         NaN    0.776648\n",
      "101    118         NaN         NaN    0.797477\n",
      "102    119         NaN         NaN    0.817225\n",
      "103    120         NaN         NaN    1.000000\n",
      "\n",
      "[104 rows x 4 columns]\n"
     ]
    }
   ],
   "source": [
    "import pickle\n",
    "\n",
    "with open('c_age_zero', 'rb') as f:\n",
    "    c_age_zero = pickle.load(f)\n",
    "\n",
    "print(c_age_zero)\n",
    "\n",
    "with open('c_age_one', 'rb') as f:\n",
    "    c_age_one = pickle.load(f)\n",
    "\n",
    "print(c_age_one)\n",
    "\n",
    "with open('AM92', 'rb') as f:\n",
    "    AM92 = pickle.load(f)\n",
    "\n",
    "print(AM92)\n"
   ]
  },
  {
   "cell_type": "markdown",
   "id": "d09bc718-2ea1-4de2-a7d5-a593a72ed6f9",
   "metadata": {},
   "source": [
    "## This works"
   ]
  },
  {
   "cell_type": "code",
   "execution_count": 2,
   "id": "511fc232-2d40-4eed-8c9e-58864df8890b",
   "metadata": {},
   "outputs": [
    {
     "data": {
      "text/plain": [
       "0      0.000600\n",
       "1      0.000594\n",
       "2      0.000587\n",
       "3      0.000582\n",
       "4      0.000577\n",
       "         ...   \n",
       "99     0.754809\n",
       "100    0.776648\n",
       "101    0.797477\n",
       "102    0.817225\n",
       "103    1.000000\n",
       "Name: Duration 2, Length: 104, dtype: float64"
      ]
     },
     "execution_count": 2,
     "metadata": {},
     "output_type": "execute_result"
    }
   ],
   "source": [
    "AM92.loc[AM92['Age x'] == c_age_zero,'Duration 2']"
   ]
  },
  {
   "cell_type": "markdown",
   "id": "cb4ff58c-6b2e-4bca-a304-46f943ed2537",
   "metadata": {},
   "source": [
    "## But this one is empty??"
   ]
  },
  {
   "cell_type": "code",
   "execution_count": 3,
   "id": "08c0a8a8-32dd-4452-881d-a3d9f35a33ce",
   "metadata": {},
   "outputs": [
    {
     "data": {
      "text/plain": [
       "Series([], Name: Duration 2, dtype: float64)"
      ]
     },
     "execution_count": 3,
     "metadata": {},
     "output_type": "execute_result"
    }
   ],
   "source": [
    "AM92.loc[AM92['Age x'] == c_age_one,'Duration 2']"
   ]
  },
  {
   "cell_type": "code",
   "execution_count": null,
   "id": "2a8c65b6-0696-4f4c-8306-171862390eff",
   "metadata": {},
   "outputs": [],
   "source": []
  }
 ],
 "metadata": {
  "kernelspec": {
   "display_name": "Python 3 (ipykernel)",
   "language": "python",
   "name": "python3"
  },
  "language_info": {
   "codemirror_mode": {
    "name": "ipython",
    "version": 3
   },
   "file_extension": ".py",
   "mimetype": "text/x-python",
   "name": "python",
   "nbconvert_exporter": "python",
   "pygments_lexer": "ipython3",
   "version": "3.9.12"
  }
 },
 "nbformat": 4,
 "nbformat_minor": 5
}
